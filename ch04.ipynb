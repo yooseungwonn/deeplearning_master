{
 "cells": [
  {
   "cell_type": "markdown",
   "id": "df693600",
   "metadata": {},
   "source": [
    "# 4장. 가장 훌륭한 예측선"
   ]
  },
  {
   "cell_type": "markdown",
   "id": "03fee64d",
   "metadata": {},
   "source": [
    "[<img src=\"https://raw.githubusercontent.com/taehojo/taehojo.github.io/master/assets/images/linktocolab.png\" align=\"left\"/> ](https://colab.research.google.com/github/taehojo/deeplearning/blob/master/colab/ch04-colab.ipynb)"
   ]
  },
  {
   "cell_type": "markdown",
   "id": "cb4bb2c8",
   "metadata": {},
   "source": [
    "## 4. 파이썬 코딩으로 확인하는 최소 제곱"
   ]
  },
  {
   "cell_type": "markdown",
   "id": "8ce90623",
   "metadata": {},
   "source": [
    "### 1. 환경 준비"
   ]
  },
  {
   "cell_type": "code",
   "execution_count": 1,
   "id": "86907981",
   "metadata": {},
   "outputs": [],
   "source": [
    "import numpy as np"
   ]
  },
  {
   "cell_type": "markdown",
   "id": "26e7632f",
   "metadata": {},
   "source": [
    "### 2. 데이터 준비"
   ]
  },
  {
   "cell_type": "code",
   "execution_count": 2,
   "id": "a1678fe5",
   "metadata": {},
   "outputs": [],
   "source": [
    "# 공부한 시간과 점수를 각각 x, y라는 이름의 넘파이 배열로 만듭니다.\n",
    "x = np.array([2, 4, 6, 8])\n",
    "y = np.array([81, 93, 91, 97]) "
   ]
  },
  {
   "cell_type": "markdown",
   "id": "2ad27943",
   "metadata": {},
   "source": [
    "#### [x와 y의 평균값]"
   ]
  },
  {
   "cell_type": "code",
   "execution_count": 3,
   "id": "ba68a3b7",
   "metadata": {},
   "outputs": [
    {
     "name": "stdout",
     "output_type": "stream",
     "text": [
      "x의 평균값: 5.0\n",
      "y의 평균값: 90.5\n"
     ]
    }
   ],
   "source": [
    "#x의 평균값을 구합니다.\n",
    "mx = np.mean(x)\n",
    "\n",
    "#y의 평균값을 구합니다.\n",
    "my = np.mean(y)\n",
    "\n",
    "# 출력으로 확인합니다.\n",
    "print(\"x의 평균값:\", mx)\n",
    "print(\"y의 평균값:\", my)"
   ]
  },
  {
   "cell_type": "markdown",
   "id": "86e62f9d",
   "metadata": {},
   "source": [
    "#### [기울기 공식의 분모와 분자]"
   ]
  },
  {
   "cell_type": "code",
   "execution_count": 4,
   "id": "8ca14c62",
   "metadata": {},
   "outputs": [
    {
     "name": "stdout",
     "output_type": "stream",
     "text": [
      "분모: 20.0\n",
      "분자: 46.0\n"
     ]
    }
   ],
   "source": [
    "# 기울기 공식의 분모 부분입니다.\n",
    "divisor = sum([(i - mx)**2 for i in x])\n",
    "\n",
    "# 기울기 공식의 분자 부분입니다.\n",
    "def top(x, mx, y, my):\n",
    "    d = 0\n",
    "    for i in range(len(x)):\n",
    "        d += (x[i] - mx) * (y[i] - my)\n",
    "    return d\n",
    "dividend = top(x, mx, y, my)\n",
    "\n",
    "# 출력으로 확인합니다.\n",
    "print(\"분모:\", divisor)\n",
    "print(\"분자:\", dividend)"
   ]
  },
  {
   "cell_type": "markdown",
   "id": "c117d1fe",
   "metadata": {},
   "source": [
    "### 3. 기울기와 y 절편 구하기"
   ]
  },
  {
   "cell_type": "code",
   "execution_count": 5,
   "id": "0fa99a7d",
   "metadata": {},
   "outputs": [
    {
     "name": "stdout",
     "output_type": "stream",
     "text": [
      "기울기 a = 2.3\n",
      "y절편 b = 79.0\n"
     ]
    }
   ],
   "source": [
    "# 기울기 a를 구하는 공식입니다.\n",
    "a = dividend / divisor\n",
    "\n",
    "# y절편 b 를 구하는 공식입니다.\n",
    "b = my - (mx*a)\n",
    "\n",
    "# 출력으로 확인합니다.\n",
    "print(\"기울기 a =\", a)\n",
    "print(\"y절편 b =\", b)"
   ]
  },
  {
   "cell_type": "code",
   "execution_count": 7,
   "id": "1eadcc45",
   "metadata": {},
   "outputs": [
    {
     "data": {
      "image/png": "[encoded data removed]",
      "text/plain": [
       "<Figure size 640x480 with 1 Axes>"
      ]
     },
     "metadata": {},
     "output_type": "display_data"
    }
   ],
   "source": [
    "# 시각화\n",
    "import matplotlib.pyplot as plt\n",
    "\n",
    "r = [2, 8] # 독립 변수의 범위\n",
    "# 회귀선의 공식: 2.3*x +79\n",
    "plt.scatter(x, y)\n",
    "plt.plot(r, [a * x + b for x in r], color='red')\n",
    "plt.show()"
   ]
  },
  {
   "cell_type": "code",
   "execution_count": 8,
   "id": "32878428",
   "metadata": {},
   "outputs": [
    {
     "name": "stdout",
     "output_type": "stream",
     "text": [
      "5시간 공부했을 때의 예상 점수: 90.5\n"
     ]
    }
   ],
   "source": [
    "# 5시간을 공부했을 때의 점수 예측\n",
    "hour = 5\n",
    "print(\"5시간 공부했을 때의 예상 점수:\", a * hour + b)"
   ]
  },
  {
   "cell_type": "markdown",
   "id": "4fb18def",
   "metadata": {},
   "source": [
    "## 6. 파이썬 코딩으로 확인하는 평균 제곱 오차"
   ]
  },
  {
   "cell_type": "markdown",
   "id": "e03f22bc",
   "metadata": {},
   "source": [
    "### 1. 환경 준비"
   ]
  },
  {
   "cell_type": "code",
   "execution_count": 9,
   "id": "ef1960f8",
   "metadata": {},
   "outputs": [],
   "source": [
    "import numpy as np"
   ]
  },
  {
   "cell_type": "markdown",
   "id": "d269ffc7",
   "metadata": {},
   "source": [
    "### 2. 데이터 준비"
   ]
  },
  {
   "cell_type": "code",
   "execution_count": 10,
   "id": "3aa4d4da",
   "metadata": {},
   "outputs": [],
   "source": [
    "#가상의 기울기 a와 y 절편 b를 정합니다.\n",
    "fake_a=3\n",
    "fake_b=76\n",
    "\n",
    "#공부 시간 x와 성적 y의 넘파이 배열을 만듭니다.\n",
    "x = np.array([2, 4, 6, 8])\n",
    "y = np.array([81, 93, 91, 97]) "
   ]
  },
  {
   "cell_type": "markdown",
   "id": "5673ef31",
   "metadata": {},
   "source": [
    "### 3. 평균 제곱 오차 구하기"
   ]
  },
  {
   "cell_type": "code",
   "execution_count": 11,
   "id": "142745f3",
   "metadata": {},
   "outputs": [
    {
     "name": "stdout",
     "output_type": "stream",
     "text": [
      "공부시간=2, 실제점수=81, 예측점수=82\n",
      "공부시간=4, 실제점수=93, 예측점수=88\n",
      "공부시간=6, 실제점수=91, 예측점수=94\n",
      "공부시간=8, 실제점수=97, 예측점수=100\n"
     ]
    }
   ],
   "source": [
    "# y=ax + b에 가상의 a,b 값을 대입한 결과를 출력하는 함수입니다.\n",
    "def predict(x): # 예측지를 구하기 위한 함수\n",
    "    return fake_a * x + fake_b\n",
    "\n",
    "# 예측 값이 들어갈 빈 리스트를 만듭니다.\n",
    "predict_result = []\n",
    "\n",
    "# 모든 x값을 한 번씩 대입하여 predict_result 리스트를 완성합니다.\n",
    "for i in range(len(x)):\n",
    "    predict_result.append(predict(x[i]))\n",
    "    print(\"공부시간=%.f, 실제점수=%.f, 예측점수=%.f\" % (x[i], y[i], predict(x[i])))"
   ]
  },
  {
   "cell_type": "code",
   "execution_count": 12,
   "id": "c90e102f",
   "metadata": {},
   "outputs": [
    {
     "name": "stdout",
     "output_type": "stream",
     "text": [
      "평균 제곱 오차: 11.0\n"
     ]
    }
   ],
   "source": [
    "# 평균 제곱 오차 함수를 각 y값에 대입하여 최종 값을 구하는 함수입니다.\n",
    "n=len(x)  \n",
    "def mse(y, y_pred):\n",
    "    return (1/n) * sum((y - y_pred)**2)\n",
    "\n",
    "# 평균 제곱 오차 값을 출력합니다.\n",
    "print(\"평균 제곱 오차: \" + str(mse(y,predict_result)))"
   ]
  },
  {
   "cell_type": "code",
   "execution_count": 14,
   "id": "e2d81e1d",
   "metadata": {},
   "outputs": [
    {
     "data": {
      "text/plain": [
       "[<matplotlib.lines.Line2D at 0x19efd345a80>]"
      ]
     },
     "execution_count": 14,
     "metadata": {},
     "output_type": "execute_result"
    },
    {
     "data": {
      "image/png": "[encoded data removed]",
      "text/plain": [
       "<Figure size 640x480 with 1 Axes>"
      ]
     },
     "metadata": {},
     "output_type": "display_data"
    }
   ],
   "source": [
    "# 시각화\n",
    "import matplotlib.pyplot as plt\n",
    "\n",
    "plt.scatter(x, y)\n",
    "r = [min(x), max(x)] # 독립 변수의 범위\n",
    "plt.plot(r, [fake_a * x + fake_b for x in r], color='red')"
   ]
  }
 ],
 "metadata": {
  "kernelspec": {
   "display_name": "Python 3 (ipykernel)",
   "language": "python",
   "name": "python3"
  },
  "language_info": {
   "codemirror_mode": {
    "name": "ipython",
    "version": 3
   },
   "file_extension": ".py",
   "mimetype": "text/x-python",
   "name": "python",
   "nbconvert_exporter": "python",
   "pygments_lexer": "ipython3",
   "version": "3.10.9"
  }
 },
 "nbformat": 4,
 "nbformat_minor": 5
}
