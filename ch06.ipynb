{
 "cells": [
  {
   "cell_type": "markdown",
   "id": "14f3d9bb",
   "metadata": {},
   "source": [
    "# 6장. 로지스틱 회귀 모델: 참 거짓 판단하기"
   ]
  },
  {
   "cell_type": "markdown",
   "id": "9ebeab00",
   "metadata": {},
   "source": [
    "[<img src=\"https://raw.githubusercontent.com/taehojo/taehojo.github.io/master/assets/images/linktocolab.png\" align=\"left\"/> ](https://colab.research.google.com/github/taehojo/deeplearning/blob/master/colab/ch06-colab.ipynb)"
   ]
  },
  {
   "cell_type": "markdown",
   "id": "31aa0af8",
   "metadata": {},
   "source": [
    "## 5. 텐서플로에서 실행하는 로지스틱 회귀 모델"
   ]
  },
  {
   "cell_type": "markdown",
   "id": "3bd0ceed",
   "metadata": {},
   "source": [
    "### 1.환경 준비"
   ]
  },
  {
   "cell_type": "code",
   "execution_count": 1,
   "id": "38ce6ac5",
   "metadata": {},
   "outputs": [],
   "source": [
    "import numpy as np\n",
    "import matplotlib.pyplot as plt\n",
    "from tensorflow.keras.models import Sequential\n",
    "from tensorflow.keras.layers import Input, Dense"
   ]
  },
  {
   "cell_type": "markdown",
   "id": "00f9c412",
   "metadata": {},
   "source": [
    "### 2. 데이터 준비"
   ]
  },
  {
   "cell_type": "code",
   "execution_count": 3,
   "id": "92e915e0",
   "metadata": {},
   "outputs": [],
   "source": [
    "x = np.array([2, 4, 6, 8, 10, 12, 14])\n",
    "y = np.array([0, 0, 0, 1, 1, 1, 1]) # 0: 불합격, 1: 합격"
   ]
  },
  {
   "cell_type": "markdown",
   "id": "605e6ad0",
   "metadata": {},
   "source": [
    "### 3. 모델 실행"
   ]
  },
  {
   "cell_type": "code",
   "execution_count": 5,
   "id": "f2735f67",
   "metadata": {},
   "outputs": [],
   "source": [
    "model = Sequential()\n",
    "\n",
    "model.add(Input(shape=(1,)))\n",
    "model.add(Dense(1, activation='sigmoid'))\n",
    "\n",
    "# 이진 분류 손실 함수 - binary_crossentropy\n",
    "# 교차 엔트로피 오차 함수를 이용하기 위하여 'binary_crossentropy'로 설정합니다. \n",
    "model.compile(optimizer='sgd' ,loss='binary_crossentropy')\n",
    "\n",
    "history = model.fit(x, y, epochs=5000, verbose=0)"
   ]
  },
  {
   "cell_type": "code",
   "execution_count": 11,
   "id": "18b27618",
   "metadata": {},
   "outputs": [
    {
     "name": "stdout",
     "output_type": "stream",
     "text": [
      "Epoch: 1, loss: 1.8975204229354858\n",
      "Epoch: 101, loss: 0.5065394043922424\n",
      "Epoch: 201, loss: 0.48479530215263367\n",
      "Epoch: 301, loss: 0.46481212973594666\n",
      "Epoch: 401, loss: 0.4464310109615326\n",
      "Epoch: 501, loss: 0.42950576543807983\n",
      "Epoch: 601, loss: 0.4139012396335602\n",
      "Epoch: 701, loss: 0.39949342608451843\n",
      "Epoch: 801, loss: 0.38616928458213806\n",
      "Epoch: 901, loss: 0.3738264739513397\n",
      "Epoch: 1001, loss: 0.36237233877182007\n",
      "Epoch: 1101, loss: 0.3517237603664398\n",
      "Epoch: 1201, loss: 0.341806024312973\n",
      "Epoch: 1301, loss: 0.3325520157814026\n",
      "Epoch: 1401, loss: 0.3239017128944397\n",
      "Epoch: 1501, loss: 0.3158011734485626\n",
      "Epoch: 1601, loss: 0.30820223689079285\n",
      "Epoch: 1701, loss: 0.3010614812374115\n",
      "Epoch: 1801, loss: 0.2943403720855713\n",
      "Epoch: 1901, loss: 0.28800347447395325\n",
      "Epoch: 2001, loss: 0.282019704580307\n",
      "Epoch: 2101, loss: 0.27636075019836426\n",
      "Epoch: 2201, loss: 0.2710011303424835\n",
      "Epoch: 2301, loss: 0.26591771841049194\n",
      "Epoch: 2401, loss: 0.26108965277671814\n",
      "Epoch: 2501, loss: 0.2564981281757355\n",
      "Epoch: 2601, loss: 0.2521260380744934\n",
      "Epoch: 2701, loss: 0.2479577213525772\n",
      "Epoch: 2801, loss: 0.24397899210453033\n",
      "Epoch: 2901, loss: 0.24017693102359772\n",
      "Epoch: 3001, loss: 0.23653970658779144\n",
      "Epoch: 3101, loss: 0.23305654525756836\n",
      "Epoch: 3201, loss: 0.22971756756305695\n",
      "Epoch: 3301, loss: 0.2265135496854782\n",
      "Epoch: 3401, loss: 0.22343622148036957\n",
      "Epoch: 3501, loss: 0.220477893948555\n",
      "Epoch: 3601, loss: 0.2176315039396286\n",
      "Epoch: 3701, loss: 0.2148904800415039\n",
      "Epoch: 3801, loss: 0.2122488021850586\n",
      "Epoch: 3901, loss: 0.20970089733600616\n",
      "Epoch: 4001, loss: 0.20724153518676758\n",
      "Epoch: 4101, loss: 0.2048659324645996\n",
      "Epoch: 4201, loss: 0.2025696039199829\n",
      "Epoch: 4301, loss: 0.20034845173358917\n",
      "Epoch: 4401, loss: 0.1981985718011856\n",
      "Epoch: 4501, loss: 0.19611632823944092\n",
      "Epoch: 4601, loss: 0.19409838318824768\n",
      "Epoch: 4701, loss: 0.1921415776014328\n",
      "Epoch: 4801, loss: 0.19024302065372467\n",
      "Epoch: 4901, loss: 0.18839989602565765\n",
      "Epoch: 5000, loss: 0.18662726879119873\n"
     ]
    }
   ],
   "source": [
    "for epoch, loss in enumerate(history.history['loss']):\n",
    "    if epoch % 100 == 0:\n",
    "        print(f\"Epoch: {epoch + 1}, loss: {loss}\")\n",
    "else:\n",
    "    print(f\"Epoch: {epoch + 1}, loss: {loss}\")\n",
    "\n"
   ]
  },
  {
   "cell_type": "markdown",
   "id": "514ecfcd",
   "metadata": {},
   "source": [
    "### 4. 모델 테스트"
   ]
  },
  {
   "cell_type": "code",
   "execution_count": 12,
   "id": "669c2350",
   "metadata": {},
   "outputs": [
    {
     "name": "stdout",
     "output_type": "stream",
     "text": [
      "1/1 [==============================] - 0s 63ms/step\n"
     ]
    },
    {
     "data": {
      "image/png": "[encoded data removed]",
      "text/plain": [
       "<Figure size 640x480 with 1 Axes>"
      ]
     },
     "metadata": {},
     "output_type": "display_data"
    }
   ],
   "source": [
    "#그래프로 확인해 봅니다.\n",
    "\n",
    "plt.scatter(x, y)\n",
    "plt.plot(x, model.predict(x),'r')\n",
    "plt.show()"
   ]
  },
  {
   "cell_type": "code",
   "execution_count": 13,
   "id": "e4b6209f",
   "metadata": {},
   "outputs": [
    {
     "name": "stdout",
     "output_type": "stream",
     "text": [
      "1/1 [==============================] - 0s 39ms/step\n",
      "7시간을 공부할 경우, 합격 예상 확률은 59.6%입니다\n"
     ]
    }
   ],
   "source": [
    "#임의의 학습시간을 집어넣어 합격 예상 확률을 예측해 보겠습니다.\n",
    "\n",
    "hour = 7\n",
    "prediction = model.predict([hour])\n",
    "\n",
    "print(\"%.f시간을 공부할 경우, 합격 예상 확률은 %.01f%%입니다\" % (hour, prediction * 100))"
   ]
  },
  {
   "cell_type": "code",
   "execution_count": null,
   "id": "bcffd088",
   "metadata": {},
   "outputs": [],
   "source": []
  }
 ],
 "metadata": {
  "kernelspec": {
   "display_name": "Python 3 (ipykernel)",
   "language": "python",
   "name": "python3"
  },
  "language_info": {
   "codemirror_mode": {
    "name": "ipython",
    "version": 3
   },
   "file_extension": ".py",
   "mimetype": "text/x-python",
   "name": "python",
   "nbconvert_exporter": "python",
   "pygments_lexer": "ipython3",
   "version": "3.10.9"
  }
 },
 "nbformat": 4,
 "nbformat_minor": 5
}
